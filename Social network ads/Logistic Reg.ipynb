{
  "nbformat": 4,
  "nbformat_minor": 0,
  "metadata": {
    "colab": {
      "provenance": []
    },
    "kernelspec": {
      "name": "python3",
      "display_name": "Python 3"
    },
    "language_info": {
      "name": "python"
    }
  },
  "cells": [
    {
      "cell_type": "code",
      "execution_count": 5,
      "metadata": {
        "id": "UFKfcn66RTj0"
      },
      "outputs": [],
      "source": [
        "import numpy as np\n",
        "import pandas as pd\n",
        "import matplotlib.pyplot as plt\n",
        "from sklearn.model_selection import train_test_split\n",
        "from sklearn.linear_model import LogisticRegression\n",
        "from sklearn.metrics import (confusion_matrix, classification_report,accuracy_score)\n",
        "import seaborn as sns\n",
        "\n",
        "def load_data():\n",
        "  df=pd.read_csv('/content/Social_Network_Ads - Social_Network_Ads.csv')\n",
        "\n",
        "  X = df[['Age','EstimatedSalary']]\n",
        "  Y = df['Purchased']\n",
        "\n",
        "  return X,y\n",
        "\n",
        "def train_logistic_regression(X,y):\n",
        "  X_train,X_test,y_train,y_test=train_test_split(X,y,test_size=0.2,random_state=42)\n",
        "\n",
        "  model=LogisticRegression(random_state =42)\n",
        "  model.fit(X_train,y_train)\n",
        "\n",
        "  return model , X_train,X_test,y_train,y_test\n",
        "\n"
      ]
    },
    {
      "cell_type": "code",
      "source": [
        "def evaluate_model(model,X_test,y_test):\n",
        "  y_pred=model.predict(X_test)\n",
        "  print(\"Model Evaluation\")\n",
        "  accuracy=accuracy_score(y_test,y_pred)\n",
        "  print(f\"Accuracy:{accuracy}\")"
      ],
      "metadata": {
        "id": "qGb5cRx9TQ6b"
      },
      "execution_count": 6,
      "outputs": []
    },
    {
      "cell_type": "code",
      "source": [],
      "metadata": {
        "id": "pqEqRBbAWAzO"
      },
      "execution_count": 6,
      "outputs": []
    }
  ]
}